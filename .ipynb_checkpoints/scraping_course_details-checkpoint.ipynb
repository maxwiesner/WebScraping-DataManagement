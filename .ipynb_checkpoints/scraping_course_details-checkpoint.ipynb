{
 "cells": [
  {
   "cell_type": "code",
   "execution_count": 1,
   "metadata": {},
   "outputs": [],
   "source": [
    "import re\n",
    "import csv\n",
    "import requests\n",
    "from bs4 import BeautifulSoup as bs\n",
    "\n",
    "base = 'https://catalog.colorado.edu/courses-a-z/'\n",
    "\n",
    "# each course we need the skinny on \n",
    "# the language(s)/software(s) associated is provided \n",
    "n = 'number'\n",
    "l = 'language'\n",
    "courses = {\n",
    "    'APPM': [{n:'4650', l:'Python, Matlab'}, {n:'4120', l:'LaTex'}, {n:'2350', l:'Matlab'}],\n",
    "    'MATH': [{n:'4440', l:'Python: Sage'}, {n:'3001', l:'LaTex'}, {n:'2001', l:'LaTex'}, \n",
    "             {n:'3430', l:'Matlab'}, {n:'2135', l:'LaTex'}],\n",
    "    'CSCI': [{n:'4593', l:'Risc-V, C, Linux (Bash)'}, {n:'4448', l:'Java, JUnit'}, \n",
    "             {n:'3308', l:'Javascript, HTML, CSS, Postgresql, ...'}, {n:'3202', l:'Python'}, \n",
    "             {n:'3753', l:'C, Linux (Bash)'}, {n:'2824', l:'Python'}, {n:'3104', l:'C++, Python'},\n",
    "             {n:'2400', l:'C'}, {n:'2270', l:'C++'}, {n:'3155', l:'Scala'}],\n",
    "    'ECON': [{n:'4848', l:'Stata'}, {n:'3818', l:'R, R-Studio'}, {n:'4697'}, {n:'4423'}, {n:'3080'}, \n",
    "             {n:'3070'}, {n:'2020'}, {n:'2010'}] # 3374\n",
    "}"
   ]
  },
  {
   "cell_type": "code",
   "execution_count": 2,
   "metadata": {
    "scrolled": true
   },
   "outputs": [],
   "source": [
    "course_items = []\n",
    "\n",
    "for key, value in courses.items():\n",
    "    \n",
    "    # go to specific uri link in the course catalog\n",
    "    url = base + key.lower()\n",
    "    page = requests.get(url)\n",
    "    soup = str(bs(page.content, 'html.parser'))\n",
    "    \n",
    "    for obj in value:\n",
    "        course_obj = { 'school' : key, 'course_num' :  obj[n], \n",
    "                      'language' : obj[l] if obj.get(l) is not None else \" \"}\n",
    "        \n",
    "        # get full name of course \n",
    "        name_end_p = re.compile(r'\\<\\/')\n",
    "        name_start_p = re.compile(obj[n] + r'\\s+.*\\)\\s+')\n",
    "\n",
    "        name_start_i = name_start_p.search(soup).end()\n",
    "        name_end_i = name_start_i + name_end_p.search(soup[name_start_i:]).start()\n",
    "        \n",
    "        course_obj['name'] = soup[name_start_i:name_end_i].strip()\n",
    "\n",
    "        # get course description and details \n",
    "        desc_start_p = re.compile(r'\\\"\\>')\n",
    "        desc_end_p = re.compile(r'\\<')\n",
    "        \n",
    "        desc_start_i = name_end_i + desc_start_p.search(soup[name_end_i:]).end()\n",
    "        desc_end_i = desc_start_i + desc_end_p.search(soup[desc_start_i:]).start()\n",
    "        \n",
    "        course_obj['description'] = soup[desc_start_i:desc_end_i].strip()\n",
    "        course_items.append(course_obj)"
   ]
  },
  {
   "cell_type": "code",
   "execution_count": 3,
   "metadata": {},
   "outputs": [],
   "source": [
    "# add the outlier\n",
    "course_items.append({\n",
    "    'school': 'ECON',\n",
    "    'course_num': '3274',\n",
    "    'language': ' ',\n",
    "    'name': 'International Economics',\n",
    "    'description': 'Studied how global businesses are impacted by real world developments in economics, politics, and finance; emphasis on globalization, trade and investment, the global marketplace and monetary system.'\n",
    "})\n",
    "\n",
    "\n",
    "filename = \"university_courses.csv\"\n",
    "headers = ['school', 'course_num', 'language', 'name', 'description']\n",
    "\n",
    "# writing to csv file  \n",
    "with open(filename, 'w', newline='') as csvfile:  \n",
    "    \n",
    "    writer = csv.DictWriter(csvfile, fieldnames = headers)  \n",
    "    \n",
    "    # writing headers (field names)  \n",
    "    writer.writeheader()  \n",
    "        \n",
    "    # writing data rows  \n",
    "    writer.writerows(course_items) \n",
    "    \n"
   ]
  },
  {
   "cell_type": "code",
   "execution_count": null,
   "metadata": {},
   "outputs": [],
   "source": []
  },
  {
   "cell_type": "code",
   "execution_count": null,
   "metadata": {},
   "outputs": [],
   "source": []
  }
 ],
 "metadata": {
  "kernelspec": {
   "display_name": "Python 3",
   "language": "python",
   "name": "python3"
  },
  "language_info": {
   "codemirror_mode": {
    "name": "ipython",
    "version": 3
   },
   "file_extension": ".py",
   "mimetype": "text/x-python",
   "name": "python",
   "nbconvert_exporter": "python",
   "pygments_lexer": "ipython3",
   "version": "3.7.4"
  }
 },
 "nbformat": 4,
 "nbformat_minor": 2
}
